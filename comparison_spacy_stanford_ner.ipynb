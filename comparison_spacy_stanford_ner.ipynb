{
 "cells": [
  {
   "cell_type": "code",
   "execution_count": null,
   "metadata": {},
   "outputs": [],
   "source": [
    "import pandas as pd\n",
    "import numpy as np \n",
    "\n",
    "import spacy \n",
    "import en_core_web_sm \n",
    "\n",
    "from nltk.parse import CoreNLPParser\n",
    "\n",
    "path_to_data = './data/'"
   ]
  },
  {
   "cell_type": "markdown",
   "metadata": {},
   "source": [
    "### Load spacy"
   ]
  },
  {
   "cell_type": "code",
   "execution_count": null,
   "metadata": {},
   "outputs": [],
   "source": [
    "spacy.prefer_gpu()\n",
    "nlp = en_core_web_sm.load()"
   ]
  },
  {
   "cell_type": "markdown",
   "metadata": {},
   "source": [
    "### Load US city names"
   ]
  },
  {
   "cell_type": "code",
   "execution_count": null,
   "metadata": {},
   "outputs": [],
   "source": [
    "cities = pd.read_csv(path_to_data + 'us_cities_states_counties.csv')  \n",
    "cities['City alias'] = cities['City alias'].apply(lambda x: str(x))"
   ]
  },
  {
   "cell_type": "markdown",
   "metadata": {},
   "source": [
    "### Test how many cities Spacy knows"
   ]
  },
  {
   "cell_type": "code",
   "execution_count": null,
   "metadata": {},
   "outputs": [],
   "source": [
    "%%timeit -n1 -r1 \n",
    "# GPE = Countries, cities, states.\n",
    "count = 0\n",
    "passed = 0\n",
    "for i, city in enumerate(cities['City alias'].values):\n",
    "    try:\n",
    "        doc = nlp(city)\n",
    "        for X in doc.ents: \n",
    "            if X.label_=='GPE': \n",
    "                count+=1\n",
    "    except:\n",
    "        passed +=1\n",
    "        pass\n",
    "    if i% 5000 == 0: print (i, count, passed)\n",
    "print(f'Spacy knows {count} out of {cities.shape[0]}')\n",
    "print('couldnt process:', passed)"
   ]
  },
  {
   "cell_type": "markdown",
   "metadata": {},
   "source": [
    "# Result: spacy knows 7946 out of 63211 = 12.5% "
   ]
  },
  {
   "cell_type": "markdown",
   "metadata": {},
   "source": [
    "### Load Stanford Ner Tagger"
   ]
  },
  {
   "cell_type": "markdown",
   "metadata": {},
   "source": [
    "### Test how many cities Stanford NER knows"
   ]
  },
  {
   "cell_type": "markdown",
   "metadata": {},
   "source": [
    "##### fast version https://github.com/nltk/nltk/wiki/Stanford-CoreNLP-API-in-NLTK"
   ]
  },
  {
   "cell_type": "code",
   "execution_count": null,
   "metadata": {},
   "outputs": [],
   "source": [
    "# instructions:\n",
    "# 1. run getCoreNLP.sh\n",
    "# 2. run runCoreNLP.sh\n",
    "# 3. now you can use the fast version api"
   ]
  },
  {
   "cell_type": "code",
   "execution_count": null,
   "metadata": {},
   "outputs": [],
   "source": [
    "ner_tagger = CoreNLPParser(url='http://localhost:9000', tagtype='ner') \n",
    "parser = CoreNLPParser(url='http://localhost:9000')"
   ]
  },
  {
   "cell_type": "code",
   "execution_count": null,
   "metadata": {},
   "outputs": [],
   "source": [
    "def formatted_entities(classified_paragraphs_list):\n",
    "    entities = []\n",
    "\n",
    "    for classified_paragraph in classified_paragraphs_list:\n",
    "        for entry in classified_paragraph:\n",
    "            entry_value = entry[0]\n",
    "            entry_type = entry[1]\n",
    "            \n",
    "            if entry_type == 'LOCATION': \n",
    "                entities.append(entry_value) \n",
    "    return entities "
   ]
  },
  {
   "cell_type": "code",
   "execution_count": null,
   "metadata": {},
   "outputs": [],
   "source": [
    "%%timeit -n1 -r1 \n",
    "count = 0\n",
    "passed = 0\n",
    "for i, city in enumerate(cities['City alias'].values):\n",
    "    try:         \n",
    "        city_ = parser.tokenize(city)     \n",
    "        classified_paragraphs_list = ner_tagger.tag_sents([city_]) \n",
    "        formatted_result = formatted_entities(classified_paragraphs_list)  \n",
    "        if len(formatted_result)>0:\n",
    "            count+=1\n",
    "    except Exception as e:  \n",
    "        passed +=1\n",
    "        print(i, city, 'error:', e)\n",
    "        pass\n",
    "    if i% 5000 == 0: \n",
    "        print (i, count, passed, city, 'result:', ' '.join(formatted_result)) \n",
    "print(f'Stanford knows {count} out of {cities.shape[0]}')\n",
    "print('couldnt process:', passed)"
   ]
  },
  {
   "cell_type": "markdown",
   "metadata": {},
   "source": [
    "# Result: Stanford Ner knows 15503 out of 63211 = 24.5%"
   ]
  }
 ],
 "metadata": {
  "kernelspec": {
   "display_name": "Python 3",
   "language": "python",
   "name": "python3"
  },
  "language_info": {
   "codemirror_mode": {
    "name": "ipython",
    "version": 3
   },
   "file_extension": ".py",
   "mimetype": "text/x-python",
   "name": "python",
   "nbconvert_exporter": "python",
   "pygments_lexer": "ipython3",
   "version": "3.6.4"
  }
 },
 "nbformat": 4,
 "nbformat_minor": 2
}
